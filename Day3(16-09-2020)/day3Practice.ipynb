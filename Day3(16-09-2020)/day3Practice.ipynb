{
 "cells": [
  {
   "cell_type": "markdown",
   "metadata": {},
   "source": [
    "# Today Concepts\n",
    "### 16-09-2020\n",
    "### Jupyter Installation\n",
    "- to install jupyter we have to run a command i.e, pip install jupyter\n",
    "- to open jupyter notebook we have to run a cmd in command prompt i.e, jupyter notebook\n",
    "\n",
    "### Main Heading\n",
    "- #### sub Heading1\n",
    "    - #### sub Heading2\n",
    "  \n",
    " <h2>i am h2 tag</h2>\n",
    " <p>I am p tag</p>\n",
    " <a href=''>iam <a> tag</a>\n",
    "  <img src='python logo.png'>\n",
    "   <table border=\"1\">\n",
    "       <tr><td>Badulla</td><td>Kadapa</td></tr>\n",
    "       <tr><td>Kalyan</td><td>guntur</td></tr>\n",
    "    </table>"
   ]
  },
  {
   "cell_type": "code",
   "execution_count": 2,
   "metadata": {},
   "outputs": [
    {
     "name": "stdout",
     "output_type": "stream",
     "text": [
      "hi hello\n",
      "i am using jupyter notebook\n",
      "i am learning apssdc\n"
     ]
    },
    {
     "data": {
      "text/plain": [
       "60"
      ]
     },
     "execution_count": 2,
     "metadata": {},
     "output_type": "execute_result"
    }
   ],
   "source": [
    "print(\"hi hello\")\n",
    "print('i am using jupyter notebook')\n",
    "4+7\n",
    "print('i am learning apssdc')\n",
    "56+4"
   ]
  },
  {
   "cell_type": "code",
   "execution_count": null,
   "metadata": {},
   "outputs": [],
   "source": []
  }
 ],
 "metadata": {
  "kernelspec": {
   "display_name": "Python 3",
   "language": "python",
   "name": "python3"
  },
  "language_info": {
   "codemirror_mode": {
    "name": "ipython",
    "version": 3
   },
   "file_extension": ".py",
   "mimetype": "text/x-python",
   "name": "python",
   "nbconvert_exporter": "python",
   "pygments_lexer": "ipython3",
   "version": "3.7.4"
  }
 },
 "nbformat": 4,
 "nbformat_minor": 4
}
