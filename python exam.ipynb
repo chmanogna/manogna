{
 "cells": [
  {
   "cell_type": "code",
   "execution_count": 2,
   "metadata": {},
   "outputs": [
    {
     "name": "stdout",
     "output_type": "stream",
     "text": [
      "aba\n",
      "4\n"
     ]
    }
   ],
   "source": [
    "## 2 problem\n",
    "from string import ascii_lowercase as abc\n",
    "d = {c:idx+1 for idx,c in enumerate(abc)}\n",
    "s = input()\n",
    "print(sum(d[c] for c in s))"
   ]
  },
  {
   "cell_type": "code",
   "execution_count": 3,
   "metadata": {},
   "outputs": [
    {
     "name": "stdout",
     "output_type": "stream",
     "text": [
      "1 10 1\n",
      "10\n"
     ]
    }
   ],
   "source": [
    "## 3 problem \n",
    "l, r, k = map(int, input().split())\n",
    "\n",
    "count = 0\n",
    "\n",
    "for i in range(l, r+1):\n",
    "\n",
    "     if i%k == 0:\n",
    "\n",
    "            count += 1\n",
    "\n",
    "print(count)"
   ]
  },
  {
   "cell_type": "code",
   "execution_count": 4,
   "metadata": {},
   "outputs": [
    {
     "name": "stdout",
     "output_type": "stream",
     "text": [
      "  zzzoooooo\n",
      "Yes\n"
     ]
    }
   ],
   "source": [
    "## 4 problem\n",
    "a=input()\n",
    "\n",
    "cz=0\n",
    "\n",
    "co=0\n",
    "\n",
    "for b in a:\n",
    "\n",
    "    if b == 'z':\n",
    "\n",
    "        cz+=1\n",
    "\n",
    "    elif b == 'o':\n",
    "\n",
    "        co+=1\n",
    "\n",
    "if co/cz == 2:\n",
    "\n",
    "    print('Yes')\n",
    "\n",
    "else:\n",
    "\n",
    "    print('No')"
   ]
  },
  {
   "cell_type": "code",
   "execution_count": null,
   "metadata": {},
   "outputs": [],
   "source": []
  }
 ],
 "metadata": {
  "kernelspec": {
   "display_name": "Python 3",
   "language": "python",
   "name": "python3"
  },
  "language_info": {
   "codemirror_mode": {
    "name": "ipython",
    "version": 3
   },
   "file_extension": ".py",
   "mimetype": "text/x-python",
   "name": "python",
   "nbconvert_exporter": "python",
   "pygments_lexer": "ipython3",
   "version": "3.7.4"
  }
 },
 "nbformat": 4,
 "nbformat_minor": 4
}
