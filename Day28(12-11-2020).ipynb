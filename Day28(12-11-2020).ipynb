{
 "cells": [
  {
   "cell_type": "markdown",
   "metadata": {},
   "source": [
    "## OOP's(Object Oriented programming):\n",
    "- here we will split a large program into sub parts\n",
    "- use of this oops is hiding data like packages\n",
    "- oops provide better security \n",
    "### - properties\n",
    "- class\n",
    "- object\n",
    "- method\n",
    "- polymorphism\n",
    "- encpsulations\n",
    "- abstraction"
   ]
  },
  {
   "cell_type": "markdown",
   "metadata": {},
   "source": [
    "### class:\n",
    "- class is blue print of object\n",
    "- class is collection of member variables(objects) and member functions(methods).\n",
    "\n",
    "```\n",
    "\n",
    "class class_name:\n",
    "    member variables\n",
    "    member functions\n",
    "    \n",
    "```\n",
    "\n",
    "#### rules for definig a class:\n",
    "- first letter is capital or class name should start with caps\n",
    "- should use a class keyword\n",
    "- should not contain spaces\n",
    "- the class name should not be started with numbers"
   ]
  },
  {
   "cell_type": "code",
   "execution_count": 1,
   "metadata": {},
   "outputs": [
    {
     "name": "stdout",
     "output_type": "stream",
     "text": [
      "<class 'int'>\n"
     ]
    }
   ],
   "source": [
    "a = 10\n",
    "print(type(a))"
   ]
  },
  {
   "cell_type": "markdown",
   "metadata": {},
   "source": [
    "## functions and methods\n",
    "- in oop functios are called as methods\n",
    "\n",
    "``` \n",
    "def add():\n",
    "    return 4+5\n",
    "\n",
    "class Hello:\n",
    "    def add():\n",
    "        return 4+5\n",
    "        \n",
    "```"
   ]
  },
  {
   "cell_type": "code",
   "execution_count": 5,
   "metadata": {},
   "outputs": [
    {
     "name": "stdout",
     "output_type": "stream",
     "text": [
      "manogna\n",
      "24\n",
      "i am from printInfo()\n"
     ]
    }
   ],
   "source": [
    "class MyInfo:\n",
    "    name = \"manogna\"\n",
    "    rollno = 24\n",
    "    \n",
    "    def printInfo():\n",
    "        print(\"i am from printInfo()\")\n",
    "        \n",
    "print(MyInfo.name)\n",
    "print(MyInfo.rollno)\n",
    "MyInfo.printInfo()"
   ]
  },
  {
   "cell_type": "markdown",
   "metadata": {},
   "source": [
    "### Object\n",
    "- instance of a class"
   ]
  },
  {
   "cell_type": "code",
   "execution_count": 6,
   "metadata": {},
   "outputs": [
    {
     "name": "stdout",
     "output_type": "stream",
     "text": [
      "manogna\n",
      "i am from printInfo()\n",
      "None\n"
     ]
    }
   ],
   "source": [
    "class MyInfo:\n",
    "    name = \"manogna\"\n",
    "    rollno = 24\n",
    "    \n",
    "    def printInfo():\n",
    "        print(\"i am from printInfo()\")\n",
    "        \n",
    "obj = MyInfo\n",
    "print(obj.name)\n",
    "print(obj.printInfo())"
   ]
  },
  {
   "cell_type": "code",
   "execution_count": 10,
   "metadata": {},
   "outputs": [
    {
     "name": "stdout",
     "output_type": "stream",
     "text": [
      "11\n",
      "\n",
      "    hi welcome to MyMath class,\n",
      "    here we implemented add() for that add u have to pass 2 params\n",
      "    \n"
     ]
    }
   ],
   "source": [
    "class MyMath:\n",
    "    \n",
    "    '''\n",
    "    hi welcome to MyMath class,\n",
    "    here we implemented add() for that add u have to pass 2 params\n",
    "    '''\n",
    "    \n",
    "    def add(n1, n2):\n",
    "        return n1 + n2\n",
    "    \n",
    "obj = MyMath\n",
    "print(obj.add(5,6))\n",
    "print(obj.__doc__)"
   ]
  },
  {
   "cell_type": "code",
   "execution_count": 14,
   "metadata": {},
   "outputs": [
    {
     "name": "stdout",
     "output_type": "stream",
     "text": [
      "11\n",
      "-1\n",
      "30\n"
     ]
    }
   ],
   "source": [
    "class MyMath():\n",
    "    \n",
    "    '''\n",
    "    hi welcome to MyMath class,\n",
    "    here we implemented add() for that add u have to pass 2 params\n",
    "    '''\n",
    "    \n",
    "    def add(n1, n2):\n",
    "        return n1 + n2\n",
    "    def sub(n1, n2):\n",
    "        return n1 - n2\n",
    "    def mul(n1, n2):\n",
    "        return n1 * n2\n",
    "obj = MyMath\n",
    "print(obj.add(5,6))\n",
    "print(obj.sub(5,6))\n",
    "print(obj.mul(5,6))\n"
   ]
  },
  {
   "cell_type": "markdown",
   "metadata": {},
   "source": [
    "## constructors:\n",
    "- without using object we wil call constructor method(when object is created)\n",
    "- in python__init__(self) method will work as a constructor\n",
    "- constructors are two types:\n",
    "     - default and parameterized"
   ]
  },
  {
   "cell_type": "code",
   "execution_count": 17,
   "metadata": {},
   "outputs": [
    {
     "name": "stdout",
     "output_type": "stream",
     "text": [
      "5   9\n",
      "14\n"
     ]
    }
   ],
   "source": [
    "class MyMath():\n",
    "    \n",
    "    '''\n",
    "    hi welcome to MyMath class,\n",
    "    here we implemented add() for that add u have to pass 2 params\n",
    "    '''\n",
    "    def __init__(self,n1,n2):\n",
    "        self.n1 = n1\n",
    "        self.n2 = n2\n",
    "        print(self.n1,' ',self.n2)\n",
    "        \n",
    "    def add(self):\n",
    "        return self.n1 + self.n2\n",
    "        \n",
    "obj = MyMath(5,9)\n",
    "print(obj.add())"
   ]
  },
  {
   "cell_type": "code",
   "execution_count": null,
   "metadata": {},
   "outputs": [],
   "source": []
  }
 ],
 "metadata": {
  "kernelspec": {
   "display_name": "Python 3",
   "language": "python",
   "name": "python3"
  },
  "language_info": {
   "codemirror_mode": {
    "name": "ipython",
    "version": 3
   },
   "file_extension": ".py",
   "mimetype": "text/x-python",
   "name": "python",
   "nbconvert_exporter": "python",
   "pygments_lexer": "ipython3",
   "version": "3.7.4"
  }
 },
 "nbformat": 4,
 "nbformat_minor": 4
}
