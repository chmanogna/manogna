{
 "cells": [
  {
   "cell_type": "code",
   "execution_count": 1,
   "metadata": {},
   "outputs": [],
   "source": [
    "# find number of characters in a given string without using len()\n",
    "# you have to read string from user i.e python programming\n",
    "# count = 18"
   ]
  },
  {
   "cell_type": "code",
   "execution_count": 3,
   "metadata": {},
   "outputs": [
    {
     "name": "stdout",
     "output_type": "stream",
     "text": [
      "Enter a string: python programming\n",
      "Length of the input string is: 18\n"
     ]
    }
   ],
   "source": [
    "n = input(\"Enter a string: \")\n",
    "counter = 0\n",
    "for s in n:\n",
    "      counter = counter+1\n",
    "print(\"Length of the input string is:\", counter)"
   ]
  },
  {
   "cell_type": "code",
   "execution_count": null,
   "metadata": {},
   "outputs": [],
   "source": [
    "l = \"python programming\" \n",
    "\n",
    "# len()\n",
    "\n",
    "#count = 18\n",
    "\n",
    "\n",
    "p -> 2\n",
    "y -> 1\n",
    "t -> 1\n",
    "h -> 1\n",
    "o -> 2\n",
    "n -> 2\n",
    "# -> 1\n",
    "r -> 2\n",
    "g ->2\n",
    "a -> 1\n",
    "m -> 2\n",
    "i -> 1"
   ]
  },
  {
   "cell_type": "code",
   "execution_count": 10,
   "metadata": {},
   "outputs": [
    {
     "name": "stdout",
     "output_type": "stream",
     "text": [
      "count: 18\n"
     ]
    }
   ],
   "source": [
    "l = \"python programming\"\n",
    "co = 0\n",
    "for h in l:\n",
    "    co += 1\n",
    "print(\"count: {}\".format(co))"
   ]
  },
  {
   "cell_type": "code",
   "execution_count": 16,
   "metadata": {},
   "outputs": [
    {
     "name": "stdout",
     "output_type": "stream",
     "text": [
      "python\n",
      "count: 6\n"
     ]
    }
   ],
   "source": [
    "l = input()\n",
    "co = 0\n",
    "for h in l:\n",
    "    co += 1\n",
    "print(\"count: {}\".format(co))\n",
    "#co\n",
    "#str(co)\n",
    "#print(str(co))\n",
    "#print(type(str(co)))"
   ]
  },
  {
   "cell_type": "markdown",
   "metadata": {},
   "source": [
    "### not use like this \n",
    "- if = 0\n",
    "- def = \"ramu\"\n",
    "- int = 89\n",
    "- str = \"dvkwefs\""
   ]
  },
  {
   "cell_type": "code",
   "execution_count": null,
   "metadata": {},
   "outputs": [],
   "source": [
    "#### task1\n",
    "k = \"daaaaaabcc\"\n",
    "\n",
    "d -> 1\n",
    "a -> 7\n",
    "b -> 1\n",
    "c -> 2\n",
    "\n",
    "\n",
    "##### task2\n",
    "m = \"this is python internship program\"\n",
    "#by using functions\n",
    "\n",
    "words => 5\n",
    "no of charcters in a word:\n",
    "    this => 4\n",
    "    is => 2\n",
    "    python => 6\n",
    "    internship => 10\n",
    "    program => 7\n",
    "    \n",
    "chracters count => ?\n",
    "vowels => 4\n",
    "   a->1\n",
    "    e->1    \n",
    "    i->4\n",
    "    o->2"
   ]
  },
  {
   "cell_type": "code",
   "execution_count": 3,
   "metadata": {},
   "outputs": [
    {
     "name": "stdout",
     "output_type": "stream",
     "text": [
      "aaaabbbbccddd\n",
      "{'d', 'c', 'b', 'a'}\n",
      "d => 3\n",
      "c => 2\n",
      "b => 4\n",
      "a => 4\n"
     ]
    }
   ],
   "source": [
    "n = input()\n",
    "print(set(n))\n",
    "for ak in set(n):\n",
    "    if ak in n:\n",
    "        print(ak,\"=>\",n.count(ak))"
   ]
  },
  {
   "cell_type": "code",
   "execution_count": 40,
   "metadata": {},
   "outputs": [
    {
     "name": "stdout",
     "output_type": "stream",
     "text": [
      "daaaaabbcc\n",
      "c => 2\n",
      "b => 2\n",
      "d => 1\n",
      "a => 5\n"
     ]
    }
   ],
   "source": [
    "n = input()\n",
    "#print(set(n))\n",
    "for ak in set(n):\n",
    "    if ak in n:\n",
    "        print(ak,\"=>\",n.count(ak))"
   ]
  },
  {
   "cell_type": "code",
   "execution_count": 42,
   "metadata": {},
   "outputs": [
    {
     "name": "stdout",
     "output_type": "stream",
     "text": [
      "c\n",
      "b\n",
      "d\n",
      "a\n"
     ]
    }
   ],
   "source": [
    "n = \"daaaabcc\"\n",
    "for j in set(n):\n",
    "    print(j)"
   ]
  },
  {
   "cell_type": "code",
   "execution_count": 4,
   "metadata": {},
   "outputs": [
    {
     "name": "stdout",
     "output_type": "stream",
     "text": [
      "daaaabcc"
     ]
    }
   ],
   "source": [
    "n = \"daaaabcc\"\n",
    "for j in list(n):\n",
    "    print(j,end=\"\")"
   ]
  },
  {
   "cell_type": "code",
   "execution_count": 48,
   "metadata": {},
   "outputs": [
    {
     "name": "stdout",
     "output_type": "stream",
     "text": [
      "<class 'dict'>\n"
     ]
    }
   ],
   "source": [
    "k = {'a':24,'e':12}\n",
    "print(type(k))"
   ]
  },
  {
   "cell_type": "code",
   "execution_count": 47,
   "metadata": {},
   "outputs": [
    {
     "name": "stdout",
     "output_type": "stream",
     "text": [
      "<class 'set'>\n"
     ]
    }
   ],
   "source": [
    "y = set()\n",
    "print(type(y))"
   ]
  },
  {
   "cell_type": "code",
   "execution_count": 55,
   "metadata": {},
   "outputs": [
    {
     "name": "stdout",
     "output_type": "stream",
     "text": [
      "daaaaaaaaaaaaaabbbbbbbbbdddccccc\n",
      "d => 4\n",
      "a => 14\n",
      "b => 9\n",
      "c => 5\n"
     ]
    }
   ],
   "source": [
    "m = input()\n",
    "dq = {}\n",
    "for k in m:\n",
    "    dq[k] = m.count(k)\n",
    "for i,j in dq.items():\n",
    "    print(i,\"=>\",j)"
   ]
  },
  {
   "cell_type": "code",
   "execution_count": 54,
   "metadata": {},
   "outputs": [
    {
     "name": "stdout",
     "output_type": "stream",
     "text": [
      "p => 2\n",
      "y => 1\n",
      "t => 1\n",
      "h => 1\n",
      "o => 2\n",
      "n => 2\n",
      "  => 1\n",
      "r => 2\n",
      "g => 2\n",
      "a => 1\n",
      "m => 2\n",
      "i => 1\n"
     ]
    }
   ],
   "source": [
    "# task1 answer\n",
    "m = \"python programming\"\n",
    "dq = {}\n",
    "for k in m:\n",
    "    dq[k] = m.count(k)\n",
    "for i,j in dq.items():\n",
    "    print(i,\"=>\",j)"
   ]
  },
  {
   "cell_type": "code",
   "execution_count": 51,
   "metadata": {},
   "outputs": [
    {
     "name": "stdout",
     "output_type": "stream",
     "text": [
      "{'d': 1, 'a': 6, 'b': 1, 'c': 3}\n"
     ]
    }
   ],
   "source": [
    "m = \"daaaaaabccc\"\n",
    "dq = {}\n",
    "for k in m:\n",
    "    dq[k] = m.count(k)\n",
    "print(dq)"
   ]
  },
  {
   "cell_type": "code",
   "execution_count": null,
   "metadata": {},
   "outputs": [],
   "source": [
    "## 1) WAP to count the number of factors of a given number\n",
    "## 2) WAP to find second largest factor of a given number\n",
    "## 3) WAP to find second smallest factor of a given number\n",
    "## 4) WAP to count all the prime nums between 1 to 100\n",
    "## 5) WAP to find sum of all prime nums between 1 to 100\n",
    "## 6) WAP to find largest and smallest prime nums between 1 to 100 "
   ]
  }
 ],
 "metadata": {
  "kernelspec": {
   "display_name": "Python 3",
   "language": "python",
   "name": "python3"
  },
  "language_info": {
   "codemirror_mode": {
    "name": "ipython",
    "version": 3
   },
   "file_extension": ".py",
   "mimetype": "text/x-python",
   "name": "python",
   "nbconvert_exporter": "python",
   "pygments_lexer": "ipython3",
   "version": "3.7.4"
  }
 },
 "nbformat": 4,
 "nbformat_minor": 4
}
