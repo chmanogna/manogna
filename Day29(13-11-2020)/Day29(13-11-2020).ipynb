{
 "cells": [
  {
   "cell_type": "markdown",
   "metadata": {},
   "source": [
    "### packages and modules\n",
    "\n",
    "### inheritance"
   ]
  },
  {
   "cell_type": "markdown",
   "metadata": {},
   "source": [
    "###  packages and modules\n",
    "#### package:\n",
    "- package is a folder\n",
    "- a package is a collection of modules\n",
    "\n",
    "#### modules:\n",
    "- module is file\n",
    "- which is .py file\n",
    "\n",
    "#### types of modules:\n",
    "- predefined\n",
    "- user defined\n",
    "\n",
    "##### to import packages we have to use keword import()"
   ]
  },
  {
   "cell_type": "code",
   "execution_count": null,
   "metadata": {},
   "outputs": [
    {
     "name": "stdout",
     "output_type": "stream",
     "text": [
      "\n",
      "Welcome to Python 3.7's help utility!\n",
      "\n",
      "If this is your first time using Python, you should definitely check out\n",
      "the tutorial on the Internet at https://docs.python.org/3.7/tutorial/.\n",
      "\n",
      "Enter the name of any module, keyword, or topic to get help on writing\n",
      "Python programs and using Python modules.  To quit this help utility and\n",
      "return to the interpreter, just type \"quit\".\n",
      "\n",
      "To get a list of available modules, keywords, symbols, or topics, type\n",
      "\"modules\", \"keywords\", \"symbols\", or \"topics\".  Each module also comes\n",
      "with a one-line summary of what it does; to list the modules whose name\n",
      "or summary contain a given string such as \"spam\", type \"modules spam\".\n",
      "\n",
      "help> modules\n",
      "\n",
      "Please wait a moment while I gather a list of all available modules...\n",
      "\n"
     ]
    },
    {
     "name": "stderr",
     "output_type": "stream",
     "text": [
      "c:\\users\\dell\\appdata\\local\\programs\\python\\python37\\lib\\site-packages\\IPython\\kernel\\__init__.py:13: ShimWarning: The `IPython.kernel` package has been deprecated since IPython 4.0.You should import from ipykernel or jupyter_client instead.\n",
      "  \"You should import from ipykernel or jupyter_client instead.\", ShimWarning)\n",
      "c:\\users\\dell\\appdata\\local\\programs\\python\\python37\\lib\\pkgutil.py:107: VisibleDeprecationWarning: zmq.eventloop.minitornado is deprecated in pyzmq 14.0 and will be removed.\n",
      "    Install tornado itself to use zmq with the tornado IOLoop.\n",
      "    \n",
      "  yield from walk_packages(path, info.name+'.', onerror)\n"
     ]
    },
    {
     "name": "stdout",
     "output_type": "stream",
     "text": [
      "IPython             bz2                 mmsystem            sympyprinting\n",
      "__future__          cProfile            modulefinder        symtable\n",
      "_abc                calendar            msilib              sys\n",
      "_ast                cffi                msvcrt              sysconfig\n",
      "_asyncio            cgi                 multiprocessing     tabnanny\n",
      "_bisect             cgitb               nbclient            tarfile\n",
      "_blake2             chunk               nbconvert           telnetlib\n",
      "_bootlocale         cmath               nbformat            tempfile\n",
      "_bz2                cmd                 nest_asyncio        terminado\n",
      "_cffi_backend       code                netbios             test\n",
      "_codecs             codecs              netrc               testpath\n",
      "_codecs_cn          codeop              nntplib             tests\n",
      "_codecs_hk          collections         notebook            textwrap\n",
      "_codecs_iso2022     colorama            nt                  this\n",
      "_codecs_jp          colorsys            ntpath              threading\n",
      "_codecs_kr          commctrl            ntsecuritycon       time\n",
      "_codecs_tw          compileall          nturl2path          timeit\n",
      "_collections        concurrent          numbers             timer\n",
      "_collections_abc    configparser        odbc                tkinter\n",
      "_compat_pickle      contextlib          opcode              token\n",
      "_compression        contextvars         operator            tokenize\n",
      "_contextvars        copy                optparse            tornado\n",
      "_csv                copyreg             os                  trace\n",
      "_ctypes             crypt               packaging           traceback\n",
      "_ctypes_test        csv                 pandocfilters       tracemalloc\n",
      "_datetime           ctypes              parser              traitlets\n",
      "_decimal            curses              parso               tty\n",
      "_dummy_thread       cythonmagic         pathlib             turtle\n",
      "_elementtree        dataclasses         pdb                 turtledemo\n",
      "_functools          datetime            perfmon             types\n",
      "_hashlib            dateutil            pickle              typing\n",
      "_heapq              dbi                 pickleshare         unicodedata\n",
      "_imp                dbm                 pickletools         unittest\n",
      "_io                 dde                 pip                 urllib\n",
      "_json               decimal             pipes               uu\n",
      "_locale             decorator           pkg_resources       uuid\n",
      "_lsprof             defusedxml          pkgutil             venv\n",
      "_lzma               difflib             platform            warnings\n",
      "_markupbase         dis                 plistlib            wave\n",
      "_md5                distutils           poplib              wcwidth\n",
      "_msi                doctest             posixpath           weakref\n",
      "_multibytecodec     dummy_threading     pprint              webbrowser\n",
      "_multiprocessing    easy_install        practice            webencodings\n",
      "_opcode             email               profile             widgetsnbextension\n",
      "_operator           encodings           prometheus_client   win2kras\n",
      "_osx_support        ensurepip           prompt_toolkit      win32api\n",
      "_overlapped         entrypoints         pstats              win32clipboard\n",
      "_pickle             enum                pty                 win32com\n",
      "_py_abc             errno               py_compile          win32con\n",
      "_pydecimal          faulthandler        pyclbr              win32console\n",
      "_pyio               filecmp             pycparser           win32cred\n",
      "_pyrsistent_version fileinput           pydoc               win32crypt\n",
      "_queue              fnmatch             pydoc_data          win32cryptcon\n",
      "_random             formatter           pyexpat             win32event\n",
      "_sha1               fractions           pygments            win32evtlog\n",
      "_sha256             ftplib              pyparsing           win32evtlogutil\n",
      "_sha3               functools           pyrsistent          win32file\n",
      "_sha512             gc                  pythoncom           win32gui\n",
      "_signal             genericpath         pywin               win32gui_struct\n",
      "_sitebuiltins       getopt              pywin32_bootstrap   win32help\n",
      "_socket             getpass             pywin32_testutil    win32inet\n",
      "_sqlite3            gettext             pywintypes          win32inetcon\n",
      "_sre                glob                qtconsole           win32job\n",
      "_ssl                gzip                qtpy                win32lz\n",
      "_stat               hashlib             queue               win32net\n",
      "_string             heapq               quopri              win32netcon\n",
      "_strptime           hmac                random              win32pdh\n",
      "_struct             html                rasutil             win32pdhquery\n",
      "_symtable           http                re                  win32pdhutil\n",
      "_testbuffer         idlelib             regcheck            win32pipe\n",
      "_testcapi           imaplib             regutil             win32print\n",
      "_testconsole        imghdr              reprlib             win32process\n",
      "_testimportmultiple imp                 rlcompleter         win32profile\n",
      "_testmultiphase     importlib           rmagic              win32ras\n",
      "_thread             importlib_metadata  runpy               win32rcparser\n",
      "_threading_local    inspect             sched               win32security\n",
      "_tkinter            io                  secrets             win32service\n",
      "_tracemalloc        ipaddress           select              win32serviceutil\n",
      "_warnings           ipykernel           selectors           win32timezone\n",
      "_weakref            ipykernel_launcher  send2trash          win32trace\n",
      "_weakrefset         ipython_genutils    servicemanager      win32traceutil\n",
      "_win32sysloader     ipywidgets          setuptools          win32transaction\n",
      "_winapi             isapi               shelve              win32ts\n",
      "_winxptheme         itertools           shlex               win32ui\n",
      "abc                 jedi                shutil              win32uiole\n",
      "adodbapi            jinja2              signal              win32verstamp\n",
      "afxres              json                site                win32wnet\n",
      "aifc                jsonschema          six                 winerror\n",
      "antigravity         jupyter             smtpd               winioctlcon\n",
      "argon2              jupyter_client      smtplib             winnt\n",
      "argparse            jupyter_console     sndhdr              winperf\n",
      "array               jupyter_core        socket              winpty\n",
      "ast                 jupyterlab_pygments socketserver        winreg\n",
      "async_generator     keyword             sqlite3             winsound\n",
      "asynchat            lib2to3             sre_compile         winxpgui\n",
      "asyncio             linecache           sre_constants       winxptheme\n",
      "asyncore            locale              sre_parse           wsgiref\n",
      "atexit              logging             ssl                 xdrlib\n",
      "attr                lzma                sspi                xml\n",
      "audioop             macpath             sspicon             xmlrpc\n",
      "autoreload          mailbox             stat                xxsubtype\n",
      "backcall            mailcap             statistics          zipapp\n",
      "base64              markupsafe          storemagic          zipfile\n",
      "bdb                 marshal             string              zipimport\n",
      "binascii            math                stringprep          zipp\n",
      "binhex              mimetypes           struct              zlib\n",
      "bisect              mistune             subprocess          zmq\n",
      "bleach              mmap                sunau               \n",
      "builtins            mmapfile            symbol              \n",
      "\n",
      "Enter any module name to get more help.  Or, type \"modules spam\" to search\n",
      "for modules whose name or summary contain the string \"spam\".\n",
      "\n"
     ]
    }
   ],
   "source": [
    "help()"
   ]
  },
  {
   "cell_type": "code",
   "execution_count": 1,
   "metadata": {},
   "outputs": [],
   "source": [
    "import math "
   ]
  },
  {
   "cell_type": "code",
   "execution_count": 2,
   "metadata": {},
   "outputs": [
    {
     "name": "stdout",
     "output_type": "stream",
     "text": [
      "['__doc__', '__loader__', '__name__', '__package__', '__spec__', 'acos', 'acosh', 'asin', 'asinh', 'atan', 'atan2', 'atanh', 'ceil', 'copysign', 'cos', 'cosh', 'degrees', 'e', 'erf', 'erfc', 'exp', 'expm1', 'fabs', 'factorial', 'floor', 'fmod', 'frexp', 'fsum', 'gamma', 'gcd', 'hypot', 'inf', 'isclose', 'isfinite', 'isinf', 'isnan', 'ldexp', 'lgamma', 'log', 'log10', 'log1p', 'log2', 'modf', 'nan', 'pi', 'pow', 'radians', 'remainder', 'sin', 'sinh', 'sqrt', 'tan', 'tanh', 'tau', 'trunc']\n"
     ]
    }
   ],
   "source": [
    "print(dir(math))"
   ]
  },
  {
   "cell_type": "code",
   "execution_count": 3,
   "metadata": {},
   "outputs": [
    {
     "data": {
      "text/plain": [
       "'This module provides access to the mathematical functions\\ndefined by the C standard.'"
      ]
     },
     "execution_count": 3,
     "metadata": {},
     "output_type": "execute_result"
    }
   ],
   "source": [
    "math.__doc__"
   ]
  },
  {
   "cell_type": "code",
   "execution_count": 4,
   "metadata": {},
   "outputs": [
    {
     "data": {
      "text/plain": [
       "8.0"
      ]
     },
     "execution_count": 4,
     "metadata": {},
     "output_type": "execute_result"
    }
   ],
   "source": [
    "math.pow(2,3)"
   ]
  },
  {
   "cell_type": "code",
   "execution_count": 5,
   "metadata": {},
   "outputs": [
    {
     "data": {
      "text/plain": [
       "120"
      ]
     },
     "execution_count": 5,
     "metadata": {},
     "output_type": "execute_result"
    }
   ],
   "source": [
    "math.factorial(5)"
   ]
  },
  {
   "cell_type": "code",
   "execution_count": 6,
   "metadata": {},
   "outputs": [
    {
     "data": {
      "text/plain": [
       "3.141592653589793"
      ]
     },
     "execution_count": 6,
     "metadata": {},
     "output_type": "execute_result"
    }
   ],
   "source": [
    "math.pi"
   ]
  },
  {
   "cell_type": "code",
   "execution_count": 7,
   "metadata": {},
   "outputs": [
    {
     "data": {
      "text/plain": [
       "3.142857142857143"
      ]
     },
     "execution_count": 7,
     "metadata": {},
     "output_type": "execute_result"
    }
   ],
   "source": [
    "22/7"
   ]
  },
  {
   "cell_type": "markdown",
   "metadata": {},
   "source": [
    "#### user defined modules"
   ]
  },
  {
   "cell_type": "code",
   "execution_count": 1,
   "metadata": {},
   "outputs": [],
   "source": [
    "import package"
   ]
  },
  {
   "cell_type": "code",
   "execution_count": 2,
   "metadata": {},
   "outputs": [
    {
     "data": {
      "text/plain": [
       "['__doc__',\n",
       " '__file__',\n",
       " '__loader__',\n",
       " '__name__',\n",
       " '__package__',\n",
       " '__path__',\n",
       " '__spec__']"
      ]
     },
     "execution_count": 2,
     "metadata": {},
     "output_type": "execute_result"
    }
   ],
   "source": [
    "dir(package)"
   ]
  },
  {
   "cell_type": "code",
   "execution_count": null,
   "metadata": {},
   "outputs": [],
   "source": [
    "# 1) importing modules from package\n",
    "# from package import mymath\n",
    "# 2) import all modules from package\n",
    "# from package import *\n",
    "# 3) import one or two modules from package\n",
    "# from package import mymath, mymath1, mymath2"
   ]
  },
  {
   "cell_type": "code",
   "execution_count": 3,
   "metadata": {},
   "outputs": [],
   "source": [
    "from package import mymath"
   ]
  },
  {
   "cell_type": "code",
   "execution_count": 4,
   "metadata": {},
   "outputs": [
    {
     "data": {
      "text/plain": [
       "['__doc__',\n",
       " '__file__',\n",
       " '__loader__',\n",
       " '__name__',\n",
       " '__package__',\n",
       " '__path__',\n",
       " '__spec__',\n",
       " 'mymath']"
      ]
     },
     "execution_count": 4,
     "metadata": {},
     "output_type": "execute_result"
    }
   ],
   "source": [
    "dir(package)"
   ]
  },
  {
   "cell_type": "code",
   "execution_count": 5,
   "metadata": {},
   "outputs": [
    {
     "data": {
      "text/plain": [
       "['__builtins__',\n",
       " '__cached__',\n",
       " '__doc__',\n",
       " '__file__',\n",
       " '__loader__',\n",
       " '__name__',\n",
       " '__package__',\n",
       " '__spec__',\n",
       " 'add',\n",
       " 'mul',\n",
       " 'sub']"
      ]
     },
     "execution_count": 5,
     "metadata": {},
     "output_type": "execute_result"
    }
   ],
   "source": [
    "dir(mymath)"
   ]
  },
  {
   "cell_type": "code",
   "execution_count": 7,
   "metadata": {},
   "outputs": [
    {
     "data": {
      "text/plain": [
       "78"
      ]
     },
     "execution_count": 7,
     "metadata": {},
     "output_type": "execute_result"
    }
   ],
   "source": [
    "mymath.add(24,54)"
   ]
  },
  {
   "cell_type": "code",
   "execution_count": 10,
   "metadata": {},
   "outputs": [],
   "source": [
    "## i want to import functions from modules\n",
    "from package.mymath import add, sub, mul"
   ]
  },
  {
   "cell_type": "code",
   "execution_count": 11,
   "metadata": {},
   "outputs": [
    {
     "data": {
      "text/plain": [
       "57"
      ]
     },
     "execution_count": 11,
     "metadata": {},
     "output_type": "execute_result"
    }
   ],
   "source": [
    "add(12,45)"
   ]
  },
  {
   "cell_type": "code",
   "execution_count": 13,
   "metadata": {},
   "outputs": [
    {
     "data": {
      "text/plain": [
       "50"
      ]
     },
     "execution_count": 13,
     "metadata": {},
     "output_type": "execute_result"
    }
   ],
   "source": [
    "sub(100,50)"
   ]
  },
  {
   "cell_type": "code",
   "execution_count": 14,
   "metadata": {},
   "outputs": [
    {
     "data": {
      "text/plain": [
       "576"
      ]
     },
     "execution_count": 14,
     "metadata": {},
     "output_type": "execute_result"
    }
   ],
   "source": [
    "mul(24,24)"
   ]
  },
  {
   "cell_type": "code",
   "execution_count": 3,
   "metadata": {},
   "outputs": [],
   "source": [
    "from package.mymath import Arith as Art"
   ]
  },
  {
   "cell_type": "code",
   "execution_count": 4,
   "metadata": {},
   "outputs": [
    {
     "data": {
      "text/plain": [
       "['__class__',\n",
       " '__delattr__',\n",
       " '__dict__',\n",
       " '__dir__',\n",
       " '__doc__',\n",
       " '__eq__',\n",
       " '__format__',\n",
       " '__ge__',\n",
       " '__getattribute__',\n",
       " '__gt__',\n",
       " '__hash__',\n",
       " '__init__',\n",
       " '__init_subclass__',\n",
       " '__le__',\n",
       " '__lt__',\n",
       " '__module__',\n",
       " '__ne__',\n",
       " '__new__',\n",
       " '__reduce__',\n",
       " '__reduce_ex__',\n",
       " '__repr__',\n",
       " '__setattr__',\n",
       " '__sizeof__',\n",
       " '__str__',\n",
       " '__subclasshook__',\n",
       " '__weakref__',\n",
       " 'add',\n",
       " 'exp',\n",
       " 'mul',\n",
       " 'sub']"
      ]
     },
     "execution_count": 4,
     "metadata": {},
     "output_type": "execute_result"
    }
   ],
   "source": [
    "dir(Art)"
   ]
  },
  {
   "cell_type": "code",
   "execution_count": 5,
   "metadata": {},
   "outputs": [
    {
     "data": {
      "text/plain": [
       "68"
      ]
     },
     "execution_count": 5,
     "metadata": {},
     "output_type": "execute_result"
    }
   ],
   "source": [
    "obj = Art\n",
    "obj.add(23, 45)"
   ]
  },
  {
   "cell_type": "code",
   "execution_count": 6,
   "metadata": {},
   "outputs": [
    {
     "data": {
      "text/plain": [
       "4"
      ]
     },
     "execution_count": 6,
     "metadata": {},
     "output_type": "execute_result"
    }
   ],
   "source": [
    "obj.exp(2,2)"
   ]
  },
  {
   "cell_type": "markdown",
   "metadata": {},
   "source": [
    "### inheritance\n",
    "- deriving new class from already existing class\n",
    "- accquiring properties from base class to derived class\n",
    "- code reusability and readability\n",
    "- types of inheritance:\n",
    "   - single\n",
    "   - multiple\n",
    "   - multilevel\n",
    "   - hierarchal\n",
    "   - hybrid"
   ]
  },
  {
   "cell_type": "code",
   "execution_count": 9,
   "metadata": {},
   "outputs": [],
   "source": [
    "# single\n",
    "class A:\n",
    "    name1 = \"A\"\n",
    "    age1 = 10\n",
    "    def msg():\n",
    "        print(\"I am from class A\")\n",
    "        \n",
    "class B(A):\n",
    "    name = \"B\"\n",
    "    age = 2\n",
    "    \n",
    "    def msg1():\n",
    "        print(\"i am from class b\")"
   ]
  },
  {
   "cell_type": "code",
   "execution_count": 10,
   "metadata": {},
   "outputs": [],
   "source": [
    "obj = B"
   ]
  },
  {
   "cell_type": "code",
   "execution_count": 11,
   "metadata": {},
   "outputs": [
    {
     "data": {
      "text/plain": [
       "'A'"
      ]
     },
     "execution_count": 11,
     "metadata": {},
     "output_type": "execute_result"
    }
   ],
   "source": [
    "obj.name1"
   ]
  },
  {
   "cell_type": "code",
   "execution_count": 12,
   "metadata": {},
   "outputs": [
    {
     "name": "stdout",
     "output_type": "stream",
     "text": [
      "I am from class A\n"
     ]
    }
   ],
   "source": [
    "obj.msg()"
   ]
  },
  {
   "cell_type": "code",
   "execution_count": 13,
   "metadata": {},
   "outputs": [],
   "source": [
    "# multilevel\n",
    "class A:\n",
    "    name1 = \"A\"\n",
    "    age1 = 10\n",
    "    def msg1():\n",
    "        print(\"I am from class A\")\n",
    "class C:\n",
    "    name2 = \"C\"\n",
    "    age2 = 10\n",
    "    def msg2():\n",
    "        print(\"I am from class A\")\n",
    "class B(A,C):\n",
    "    name = \"B\"\n",
    "    age = 2\n",
    "    \n",
    "    def msg():\n",
    "        print(\"i am from class b\")"
   ]
  },
  {
   "cell_type": "code",
   "execution_count": 14,
   "metadata": {},
   "outputs": [
    {
     "data": {
      "text/plain": [
       "'C'"
      ]
     },
     "execution_count": 14,
     "metadata": {},
     "output_type": "execute_result"
    }
   ],
   "source": [
    "obj = B\n",
    "obj.name2"
   ]
  },
  {
   "cell_type": "code",
   "execution_count": null,
   "metadata": {},
   "outputs": [],
   "source": [
    "class C(A)\n",
    "class B(A)"
   ]
  }
 ],
 "metadata": {
  "kernelspec": {
   "display_name": "Python 3",
   "language": "python",
   "name": "python3"
  },
  "language_info": {
   "codemirror_mode": {
    "name": "ipython",
    "version": 3
   },
   "file_extension": ".py",
   "mimetype": "text/x-python",
   "name": "python",
   "nbconvert_exporter": "python",
   "pygments_lexer": "ipython3",
   "version": "3.7.4"
  }
 },
 "nbformat": 4,
 "nbformat_minor": 4
}
