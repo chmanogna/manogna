{
 "cells": [
  {
   "cell_type": "code",
   "execution_count": 1,
   "metadata": {},
   "outputs": [],
   "source": [
    "l=[10,20,9,100,89,500]\n",
    "l.sort()"
   ]
  },
  {
   "cell_type": "code",
   "execution_count": 2,
   "metadata": {},
   "outputs": [
    {
     "name": "stdout",
     "output_type": "stream",
     "text": [
      "max number in a list is  500\n"
     ]
    }
   ],
   "source": [
    "#find the min and max without using predefined function\n",
    "l=[10,20,9,100,89,500]\n",
    "m=l[0]            #m=10\n",
    "for i in l:      #20\n",
    "    if(i>m):          #i>m=>10>10\n",
    "        m=i                  #m=i=>m=20\n",
    "print(\"max number in a list is \",m)"
   ]
  },
  {
   "cell_type": "code",
   "execution_count": 3,
   "metadata": {},
   "outputs": [
    {
     "name": "stdout",
     "output_type": "stream",
     "text": [
      "max number in a list is  9\n"
     ]
    }
   ],
   "source": [
    "# find the min number in a list\n",
    "l=[10,20,9,100,89,500]\n",
    "m=l[0]            #m=10\n",
    "for i in l:      #20\n",
    "    if(i<m):          #i>m=>10>10\n",
    "        m=i                  #m=i=>m=20\n",
    "print(\"max number in a list is \",m)"
   ]
  },
  {
   "cell_type": "code",
   "execution_count": 4,
   "metadata": {},
   "outputs": [
    {
     "data": {
      "text/plain": [
       "[9, 10, 20, 89, 100, 500]"
      ]
     },
     "execution_count": 4,
     "metadata": {},
     "output_type": "execute_result"
    }
   ],
   "source": [
    "# sort the list of elements without using predeefined function\n",
    "l=[10,20,9,100,89,500]\n",
    "for i in range(len(l)):\n",
    "    for j in range(i+1,len(l)):\n",
    "        if(l[i]>l[j]):\n",
    "            t=l[i]\n",
    "            l[i]=l[j]\n",
    "            l[j]=t\n",
    "l"
   ]
  },
  {
   "cell_type": "code",
   "execution_count": 5,
   "metadata": {},
   "outputs": [
    {
     "name": "stdout",
     "output_type": "stream",
     "text": [
      "prime number is  2\n",
      "prime number is  3\n",
      "prime number is  5\n",
      "prime number is  7\n",
      "prime number is  11\n"
     ]
    },
    {
     "data": {
      "text/plain": [
       "[2, 3, 5, 7, 11]"
      ]
     },
     "execution_count": 5,
     "metadata": {},
     "output_type": "execute_result"
    }
   ],
   "source": [
    "# find the prime numbers in a list\n",
    "l=[2,3,4,5,6,7,8,9,10,11]   #2,3,5,7,11\n",
    "plist=[]\n",
    "for i in l:\n",
    "    c=0\n",
    "    for j in range(2,i):\n",
    "        if(i%j==0):\n",
    "            c=c+1\n",
    "    if(c==0):\n",
    "        print(\"prime number is \",i)\n",
    "        plist.append(i)\n",
    "plist"
   ]
  },
  {
   "cell_type": "code",
   "execution_count": 6,
   "metadata": {},
   "outputs": [
    {
     "data": {
      "text/plain": [
       "[1, 4, 9, 16]"
      ]
     },
     "execution_count": 6,
     "metadata": {},
     "output_type": "execute_result"
    }
   ],
   "source": [
    "# print the square of a list elements\n",
    "l=[1,2,3,4]#=>[1,4,9,16]\n",
    "li=[]\n",
    "for i in l:\n",
    "    li.append(i*i)\n",
    "li"
   ]
  },
  {
   "cell_type": "markdown",
   "metadata": {},
   "source": [
    "### TUPLES\n",
    "- Tuples is like a lists\n",
    "- Tuples are immutable list\n",
    "- Tuples are create by using ()"
   ]
  },
  {
   "cell_type": "code",
   "execution_count": 7,
   "metadata": {},
   "outputs": [
    {
     "data": {
      "text/plain": [
       "tuple"
      ]
     },
     "execution_count": 7,
     "metadata": {},
     "output_type": "execute_result"
    }
   ],
   "source": [
    "t=(1,2,3,\"hello\",4.5,9.9)\n",
    "type(t)"
   ]
  },
  {
   "cell_type": "code",
   "execution_count": 8,
   "metadata": {},
   "outputs": [
    {
     "data": {
      "text/plain": [
       "(1, 2, 3, [10, 20, 30], 'hello', 6.77)"
      ]
     },
     "execution_count": 8,
     "metadata": {},
     "output_type": "execute_result"
    }
   ],
   "source": [
    "t=(1,2,3,[10,20,30],\"hello\",6.77)\n",
    "t"
   ]
  },
  {
   "cell_type": "code",
   "execution_count": 9,
   "metadata": {},
   "outputs": [],
   "source": [
    "li=[1,2,4,[23.45,8.0],\"hello\"]"
   ]
  },
  {
   "cell_type": "code",
   "execution_count": 10,
   "metadata": {},
   "outputs": [
    {
     "data": {
      "text/plain": [
       "(1, 3, '5.7')"
      ]
     },
     "execution_count": 10,
     "metadata": {},
     "output_type": "execute_result"
    }
   ],
   "source": [
    "t=(1,2,3,\"hello\",\"5.7\")\n",
    "t[-1]\n",
    "t[1:]\n",
    "t[3:-1]\n",
    "t[-2]\n",
    "t[::-1]\n",
    "t[0::2]"
   ]
  },
  {
   "cell_type": "code",
   "execution_count": 11,
   "metadata": {},
   "outputs": [
    {
     "data": {
      "text/plain": [
       "4"
      ]
     },
     "execution_count": 11,
     "metadata": {},
     "output_type": "execute_result"
    }
   ],
   "source": [
    "t=([1,2,3],[4,5,6])\n",
    "t[0]\n",
    "t[1]\n",
    "t[1][0]"
   ]
  },
  {
   "cell_type": "code",
   "execution_count": null,
   "metadata": {},
   "outputs": [],
   "source": []
  }
 ],
 "metadata": {
  "kernelspec": {
   "display_name": "Python 3",
   "language": "python",
   "name": "python3"
  },
  "language_info": {
   "codemirror_mode": {
    "name": "ipython",
    "version": 3
   },
   "file_extension": ".py",
   "mimetype": "text/x-python",
   "name": "python",
   "nbconvert_exporter": "python",
   "pygments_lexer": "ipython3",
   "version": "3.7.4"
  }
 },
 "nbformat": 4,
 "nbformat_minor": 4
}
