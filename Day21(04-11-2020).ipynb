{
 "cells": [
  {
   "cell_type": "markdown",
   "metadata": {},
   "source": [
    "## WAP to find second largest factor of given number"
   ]
  },
  {
   "cell_type": "code",
   "execution_count": 2,
   "metadata": {},
   "outputs": [
    {
     "name": "stdout",
     "output_type": "stream",
     "text": [
      "Enter a number15\n",
      "factors of a given is  [1, 3, 5, 15]\n",
      "second largest factor is  5\n",
      "second smallest factor is  3\n",
      "Sum of facotrs is: 24\n",
      "avg of factors: 6\n"
     ]
    }
   ],
   "source": [
    "# read num from user\n",
    "# need to find all factors of a given num\n",
    "# ex:4,1,2,4\n",
    "# 15:1,3,5,15\n",
    "# Finding second largest number\n",
    "\n",
    "def numOfFactors(n):\n",
    "    for i in range(1,n+1):\n",
    "        if n%i==0:\n",
    "            #print(i,end=\",\")\n",
    "            facts.append(i)\n",
    "    return facts\n",
    "            \n",
    "    \n",
    "facts = [] \n",
    "num = int(input(\"Enter a number\"))\n",
    "rs = numOfFactors(num)\n",
    "print(\"factors of a given is \",rs)\n",
    "print(\"second largest factor is \",rs[-2])\n",
    "print(\"second smallest factor is \",rs[1])\n",
    "# sum of factors of a given num\n",
    "print(\"Sum of facotrs is:\",sum(rs))\n",
    "print(\"avg of factors:\",sum(rs)//len(rs))"
   ]
  },
  {
   "cell_type": "markdown",
   "metadata": {},
   "source": [
    "## 6) WAP to find largest and smallest prime number between 1 to 100¶"
   ]
  },
  {
   "cell_type": "code",
   "execution_count": 1,
   "metadata": {},
   "outputs": [
    {
     "name": "stdout",
     "output_type": "stream",
     "text": [
      "[2, 3, 5, 7, 11, 13, 17, 19, 23, 29, 31, 37, 41, 43, 47, 53, 59, 61, 67, 71, 73, 79, 83, 89, 97]\n",
      "25\n",
      "1060\n",
      "97\n",
      "2\n"
     ]
    }
   ],
   "source": [
    "# need to implemet prime function\n",
    "# store all primes which are comming from prim()\n",
    "# Finding largest and smallest prime number\n",
    "\n",
    "def isPrime(n):\n",
    "    if n==1:\n",
    "        return False\n",
    "    \n",
    "    for i in range(2,n):\n",
    "        if n%i==0:\n",
    "            return False\n",
    "    return True\n",
    "primes = []   \n",
    "for j in range(1,101):\n",
    "    rs = isPrime(j)\n",
    "    if rs:\n",
    "        #print(j,end=',')\n",
    "        primes.append(j)\n",
    "print(primes)\n",
    "# count of primes\n",
    "print(len(primes))\n",
    "# sum of primes b/w 1 to 100\n",
    "print(sum(primes))\n",
    "print(max(primes))\n",
    "print(min(primes))"
   ]
  },
  {
   "cell_type": "code",
   "execution_count": null,
   "metadata": {},
   "outputs": [],
   "source": []
  }
 ],
 "metadata": {
  "kernelspec": {
   "display_name": "Python 3",
   "language": "python",
   "name": "python3"
  },
  "language_info": {
   "codemirror_mode": {
    "name": "ipython",
    "version": 3
   },
   "file_extension": ".py",
   "mimetype": "text/x-python",
   "name": "python",
   "nbconvert_exporter": "python",
   "pygments_lexer": "ipython3",
   "version": "3.7.4"
  }
 },
 "nbformat": 4,
 "nbformat_minor": 4
}
