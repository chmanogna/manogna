{
 "cells": [
  {
   "cell_type": "code",
   "execution_count": null,
   "metadata": {},
   "outputs": [],
   "source": [
    "## lists\n",
    " - collection of different datatypes\n",
    "## tuple\n",
    " - collection of python objects\n",
    "## Dictionary\n",
    " - dictionary is a key-value pair\n",
    " - it is unorder collection of data\n",
    " - it is mutable\n",
    " - duplicate keys not allowed in dictionary"
   ]
  },
  {
   "cell_type": "markdown",
   "metadata": {},
   "source": [
    "# Data structures:\n",
    "      - Strings\n",
    "      - list\n",
    "      - tuple\n",
    "      - dictionary\n",
    "      \n",
    " ##strings:\n",
    " -  '' or \"\" or ''' ''' or \"\"\" \"\"\"\n",
    " - combination of characters(alphbets,numbers,special characters)\n",
    " - Iteration perform (index is applicabl)\n",
    " - slicing can be done (similar to range function)\n"
   ]
  },
  {
   "cell_type": "code",
   "execution_count": 1,
   "metadata": {},
   "outputs": [
    {
     "name": "stdout",
     "output_type": "stream",
     "text": [
      "<class 'str'>\n"
     ]
    },
    {
     "data": {
      "text/plain": [
       "'rajuRSDFSf123'"
      ]
     },
     "execution_count": 1,
     "metadata": {},
     "output_type": "execute_result"
    }
   ],
   "source": [
    "d = 'rajuRSDFSf123'\n",
    "print(type(d))\n",
    "d"
   ]
  },
  {
   "cell_type": "code",
   "execution_count": 2,
   "metadata": {},
   "outputs": [
    {
     "name": "stdout",
     "output_type": "stream",
     "text": [
      "<class 'int'>\n"
     ]
    }
   ],
   "source": [
    "r = 2\n",
    "print(type(r))"
   ]
  },
  {
   "cell_type": "code",
   "execution_count": 3,
   "metadata": {},
   "outputs": [
    {
     "name": "stdout",
     "output_type": "stream",
     "text": [
      "<class 'float'>\n"
     ]
    }
   ],
   "source": [
    "t = 45.24452145\n",
    "print(type(t))"
   ]
  },
  {
   "cell_type": "code",
   "execution_count": 4,
   "metadata": {},
   "outputs": [
    {
     "name": "stdout",
     "output_type": "stream",
     "text": [
      "45\n",
      "45\n"
     ]
    },
    {
     "data": {
      "text/plain": [
       "'45'"
      ]
     },
     "execution_count": 4,
     "metadata": {},
     "output_type": "execute_result"
    }
   ],
   "source": [
    "y = input()\n",
    "print(y)\n",
    "y"
   ]
  },
  {
   "cell_type": "code",
   "execution_count": 5,
   "metadata": {},
   "outputs": [
    {
     "data": {
      "text/plain": [
       "'y. rajesh'"
      ]
     },
     "execution_count": 5,
     "metadata": {},
     "output_type": "execute_result"
    }
   ],
   "source": [
    "y = \"rajesh yadav\"\n",
    "\"y. rajesh\""
   ]
  },
  {
   "cell_type": "markdown",
   "metadata": {},
   "source": [
    "p = \"Kumar\"\n",
    "\n",
    "0   1  2  3  4 -> \n",
    "K   u  m  a  r\n",
    "-5 -4 -3 -2 -1 <-"
   ]
  },
  {
   "cell_type": "code",
   "execution_count": 6,
   "metadata": {},
   "outputs": [],
   "source": [
    "p = \"kumar\""
   ]
  },
  {
   "cell_type": "code",
   "execution_count": 7,
   "metadata": {},
   "outputs": [
    {
     "name": "stdout",
     "output_type": "stream",
     "text": [
      "a\n",
      "r\n"
     ]
    }
   ],
   "source": [
    "print(p[3])\n",
    "print(p[-1])"
   ]
  },
  {
   "cell_type": "code",
   "execution_count": 8,
   "metadata": {},
   "outputs": [
    {
     "name": "stdout",
     "output_type": "stream",
     "text": [
      "a\n"
     ]
    }
   ],
   "source": [
    "for m in range(len(p)):\n",
    "    if m == 3:\n",
    "        print(p[m])"
   ]
  },
  {
   "cell_type": "code",
   "execution_count": 9,
   "metadata": {},
   "outputs": [
    {
     "data": {
      "text/plain": [
       "'kumar'"
      ]
     },
     "execution_count": 9,
     "metadata": {},
     "output_type": "execute_result"
    }
   ],
   "source": [
    "p"
   ]
  },
  {
   "cell_type": "code",
   "execution_count": 10,
   "metadata": {},
   "outputs": [
    {
     "data": {
      "text/plain": [
       "'kumar'"
      ]
     },
     "execution_count": 10,
     "metadata": {},
     "output_type": "execute_result"
    }
   ],
   "source": [
    "p[:]"
   ]
  },
  {
   "cell_type": "code",
   "execution_count": 11,
   "metadata": {},
   "outputs": [
    {
     "name": "stdout",
     "output_type": "stream",
     "text": [
      "w\n"
     ]
    }
   ],
   "source": [
    "s = \"welcome\"\n",
    "print(s[0])"
   ]
  },
  {
   "cell_type": "code",
   "execution_count": 12,
   "metadata": {},
   "outputs": [
    {
     "name": "stdout",
     "output_type": "stream",
     "text": [
      "a\n"
     ]
    }
   ],
   "source": [
    "s = \"hellowold\"\n",
    "print(p[3])"
   ]
  },
  {
   "cell_type": "code",
   "execution_count": 13,
   "metadata": {},
   "outputs": [
    {
     "name": "stdout",
     "output_type": "stream",
     "text": [
      "<class 'str'>\n",
      "<class 'str'>\n",
      "<class 'str'>\n",
      "<class 'str'>\n"
     ]
    }
   ],
   "source": [
    "for m in \"somu\":\n",
    "    print(type(m))"
   ]
  },
  {
   "cell_type": "code",
   "execution_count": 14,
   "metadata": {},
   "outputs": [
    {
     "data": {
      "text/plain": [
       "'kumar'"
      ]
     },
     "execution_count": 14,
     "metadata": {},
     "output_type": "execute_result"
    }
   ],
   "source": [
    "p"
   ]
  },
  {
   "cell_type": "code",
   "execution_count": 15,
   "metadata": {},
   "outputs": [
    {
     "data": {
      "text/plain": [
       "'kumar'"
      ]
     },
     "execution_count": 15,
     "metadata": {},
     "output_type": "execute_result"
    }
   ],
   "source": [
    "p[:]"
   ]
  },
  {
   "cell_type": "markdown",
   "metadata": {},
   "source": [
    "  - p[index]\n",
    "  - p[start:] -> p[1:]\n",
    "  - p[:end] -> p[:2]\n",
    "  - p[start:end] -> 0yh index\n",
    "  - p[start:end:stepping] -> - for step  "
   ]
  },
  {
   "cell_type": "code",
   "execution_count": 16,
   "metadata": {},
   "outputs": [
    {
     "name": "stdout",
     "output_type": "stream",
     "text": [
      "12\n",
      "s\n"
     ]
    }
   ],
   "source": [
    "m = \"rajesh kumar\"\n",
    "print(len(m))\n",
    "print(m[4])"
   ]
  },
  {
   "cell_type": "code",
   "execution_count": 17,
   "metadata": {},
   "outputs": [
    {
     "name": "stdout",
     "output_type": "stream",
     "text": [
      "12\n",
      "s\n",
      "h\n"
     ]
    }
   ],
   "source": [
    "m = \"rajesh kumar\"\n",
    "print(len(m))\n",
    "print(m[4])\n",
    "print(m[-7])"
   ]
  },
  {
   "cell_type": "code",
   "execution_count": 18,
   "metadata": {},
   "outputs": [
    {
     "name": "stdout",
     "output_type": "stream",
     "text": [
      "12\n",
      "s\n",
      "h\n",
      "jesh kumar\n"
     ]
    }
   ],
   "source": [
    "m = \"rajesh kumar\"\n",
    "print(len(m))\n",
    "print(m[4])\n",
    "print(m[-7])\n",
    "print(m[2:])"
   ]
  },
  {
   "cell_type": "code",
   "execution_count": 19,
   "metadata": {},
   "outputs": [
    {
     "name": "stdout",
     "output_type": "stream",
     "text": [
      "12\n",
      "s\n",
      "h\n",
      "jesh kumar\n",
      "mar\n",
      "rajesh ku\n",
      "rajesh \n",
      "rajesh kumar\n"
     ]
    }
   ],
   "source": [
    "m = \"rajesh kumar\"\n",
    "print(len(m))\n",
    "print(m[4])\n",
    "print(m[-7])\n",
    "print(m[2:])\n",
    "print(m[-3:])\n",
    "print(m[:9])\n",
    "print(m[:-5])\n",
    "print(m[:])"
   ]
  },
  {
   "cell_type": "code",
   "execution_count": 20,
   "metadata": {},
   "outputs": [
    {
     "name": "stdout",
     "output_type": "stream",
     "text": [
      "rajesh kumar\n",
      "esh kumar\n",
      "umar\n",
      "rajesh kumar\n",
      "rajesh k\n",
      "rajesh ku\n",
      "sh kum\n",
      "jesh\n",
      "\n",
      "\n"
     ]
    }
   ],
   "source": [
    "print(m)\n",
    "print(m[3::])\n",
    "print(m[-4::])\n",
    "print(m[::])\n",
    "print(m[:8:])\n",
    "print(m[:-3:])\n",
    "print(m[4:10:])\n",
    "print(m[2:-6:])\n",
    "print(m[-3:-7:]) # no output\n",
    "print(m[-1:2:])  # no output"
   ]
  },
  {
   "cell_type": "code",
   "execution_count": 21,
   "metadata": {},
   "outputs": [
    {
     "name": "stdout",
     "output_type": "stream",
     "text": [
      "rajesh kumar\n",
      "jhur\n",
      "sejar\n",
      "sjr\n",
      "ka\n",
      "\n",
      "e\n"
     ]
    }
   ],
   "source": [
    "print(m)\n",
    "print(m[2::3])\n",
    "print(m[4::-1])\n",
    "print(m[4::-2])\n",
    "print(m[7:11:3])\n",
    "print(m[2:9:-1]) #\n",
    "print(m[3:-10:-2])"
   ]
  },
  {
   "cell_type": "markdown",
   "metadata": {},
   "source": [
    "0    1   2  3  4  5  6   7  8  9  10  11\n",
    " R   a   j  e  s  h      k  u  m  a   r\n",
    "-12 -11 -10 -9 -8 -7 -6 -5 -4 -3 -2  -1"
   ]
  },
  {
   "cell_type": "markdown",
   "metadata": {},
   "source": [
    "Firstname Lastname\n",
    "Suresh    Reddy"
   ]
  },
  {
   "cell_type": "markdown",
   "metadata": {},
   "source": [
    "SurXXXXXXXXdy\n",
    "99xxxxxx081"
   ]
  },
  {
   "cell_type": "code",
   "execution_count": 22,
   "metadata": {},
   "outputs": [
    {
     "name": "stdout",
     "output_type": "stream",
     "text": [
      "Tar\n",
      "xxxx\n",
      "Tarxxxxar\n",
      "Tarxxxxar\n"
     ]
    }
   ],
   "source": [
    "w = \"Tarun Kumar\"\n",
    "t = w[:3]\n",
    "y = \"x\"*4\n",
    "q = w[-2:]\n",
    "e = t+y+q\n",
    "a = w[:3]+\"x\"*4+w[-2:]\n",
    "print(t)\n",
    "print(y)\n",
    "print(e)\n",
    "print(a)"
   ]
  },
  {
   "cell_type": "code",
   "execution_count": 23,
   "metadata": {},
   "outputs": [
    {
     "name": "stdout",
     "output_type": "stream",
     "text": [
      "['__add__', '__class__', '__contains__', '__delattr__', '__dir__', '__doc__', '__eq__', '__format__', '__ge__', '__getattribute__', '__getitem__', '__getnewargs__', '__gt__', '__hash__', '__init__', '__init_subclass__', '__iter__', '__le__', '__len__', '__lt__', '__mod__', '__mul__', '__ne__', '__new__', '__reduce__', '__reduce_ex__', '__repr__', '__rmod__', '__rmul__', '__setattr__', '__sizeof__', '__str__', '__subclasshook__', 'capitalize', 'casefold', 'center', 'count', 'encode', 'endswith', 'expandtabs', 'find', 'format', 'format_map', 'index', 'isalnum', 'isalpha', 'isascii', 'isdecimal', 'isdigit', 'isidentifier', 'islower', 'isnumeric', 'isprintable', 'isspace', 'istitle', 'isupper', 'join', 'ljust', 'lower', 'lstrip', 'maketrans', 'partition', 'replace', 'rfind', 'rindex', 'rjust', 'rpartition', 'rsplit', 'rstrip', 'split', 'splitlines', 'startswith', 'strip', 'swapcase', 'title', 'translate', 'upper', 'zfill']\n"
     ]
    }
   ],
   "source": [
    "print(dir(str))"
   ]
  },
  {
   "cell_type": "code",
   "execution_count": null,
   "metadata": {},
   "outputs": [],
   "source": []
  }
 ],
 "metadata": {
  "kernelspec": {
   "display_name": "Python 3",
   "language": "python",
   "name": "python3"
  },
  "language_info": {
   "codemirror_mode": {
    "name": "ipython",
    "version": 3
   },
   "file_extension": ".py",
   "mimetype": "text/x-python",
   "name": "python",
   "nbconvert_exporter": "python",
   "pygments_lexer": "ipython3",
   "version": "3.7.4"
  }
 },
 "nbformat": 4,
 "nbformat_minor": 4
}
