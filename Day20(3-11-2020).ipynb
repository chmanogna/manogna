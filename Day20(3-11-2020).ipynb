{
 "cells": [
  {
   "cell_type": "markdown",
   "metadata": {},
   "source": [
    "## Files:\n",
    "  - To store the data permanently\n",
    "  - .txt, .doc, .csv, .py, .java, .c\n",
    "  - open(), close()\n",
    "  - with[doesnt have to close a file]\n",
    "  - filepath,mode\n",
    "  - mode:\n",
    "      - r -> read (file doesnt exit in location it shows an error)\n",
    "      - w -> write (file doesnt exist in location it automatically creates a file. It performs an action. It removes the previous data from a file and it appends the present data)\n",
    "      - a -> append (file doesnt exist in location it automatically creates a file. It performs an action. It doesnt removes the previous data.)\n",
    "      - x -> create (It create a file in a location. if it exists with a name it doesnt create a file with same name)\n",
    "  - with open(filepath,mode) as filepointer:\n",
    "         filepointer.actions"
   ]
  },
  {
   "cell_type": "code",
   "execution_count": 1,
   "metadata": {},
   "outputs": [
    {
     "name": "stdout",
     "output_type": "stream",
     "text": [
      "python\n"
     ]
    }
   ],
   "source": [
    "k = \"python\"\n",
    "print(k)"
   ]
  },
  {
   "cell_type": "markdown",
   "metadata": {},
   "source": [
    "\n",
    "\n",
    "  filename: test-1.txt \n",
    "  \n",
    "  Input:\n",
    "  \n",
    "     Test Case-1:\n",
    "       1 2 \n",
    "       3\n",
    "     Test Case-2:\n",
    "       4 5\n",
    "       9\n",
    "\n",
    "  Your output : Output.txt\n",
    "     3\n",
    "     9"
   ]
  },
  {
   "cell_type": "code",
   "execution_count": 2,
   "metadata": {},
   "outputs": [],
   "source": [
    "with open(\"DataFiles/sample.text\",\"w\") as fw:\n",
    "    fw.write(\"Welcome to APSSDC Internship Program\\nHi Good Morning to All...\")"
   ]
  },
  {
   "cell_type": "code",
   "execution_count": 3,
   "metadata": {},
   "outputs": [
    {
     "name": "stdout",
     "output_type": "stream",
     "text": [
      "['Welcome to APSSDC Internship Program\\n', 'Hi Good Morning to All...']\n"
     ]
    }
   ],
   "source": [
    "with open(\"DataFiles/sample.text\",\"r\") as fr:\n",
    "    print(fr.readlines())\n",
    "#     print(fr.readline())\n",
    "#     print(fr.readline())"
   ]
  },
  {
   "cell_type": "code",
   "execution_count": 4,
   "metadata": {},
   "outputs": [
    {
     "name": "stdout",
     "output_type": "stream",
     "text": [
      "['_CHUNK_SIZE', '__class__', '__del__', '__delattr__', '__dict__', '__dir__', '__doc__', '__enter__', '__eq__', '__exit__', '__format__', '__ge__', '__getattribute__', '__getstate__', '__gt__', '__hash__', '__init__', '__init_subclass__', '__iter__', '__le__', '__lt__', '__ne__', '__new__', '__next__', '__reduce__', '__reduce_ex__', '__repr__', '__setattr__', '__sizeof__', '__str__', '__subclasshook__', '_checkClosed', '_checkReadable', '_checkSeekable', '_checkWritable', '_finalizing', 'buffer', 'close', 'closed', 'detach', 'encoding', 'errors', 'fileno', 'flush', 'isatty', 'line_buffering', 'mode', 'name', 'newlines', 'read', 'readable', 'readline', 'readlines', 'reconfigure', 'seek', 'seekable', 'tell', 'truncate', 'writable', 'write', 'write_through', 'writelines']\n"
     ]
    }
   ],
   "source": [
    "print(dir(fw))"
   ]
  },
  {
   "cell_type": "code",
   "execution_count": 5,
   "metadata": {},
   "outputs": [],
   "source": [
    "with open(\"DataFiles/sample.text\",\"a\") as fa:\n",
    "    fa.write(\"\\nThis is sample line\")"
   ]
  },
  {
   "cell_type": "code",
   "execution_count": 6,
   "metadata": {},
   "outputs": [],
   "source": [
    "with open(\"DataFiles/in.text\",\"x\") as fx:\n",
    "    fx.write(\"\\nThis is sample line\")"
   ]
  },
  {
   "cell_type": "markdown",
   "metadata": {},
   "source": [
    "\n",
    "\n",
    " Addition of 2 numbers by using files concept\n",
    " \n",
    "      Input: Input.text\n",
    "       1 2\n",
    "       4 5\n",
    "    Output: Output.text\n",
    "      3\n",
    "      9"
   ]
  },
  {
   "cell_type": "code",
   "execution_count": 7,
   "metadata": {},
   "outputs": [
    {
     "name": "stdout",
     "output_type": "stream",
     "text": [
      "6 6\n"
     ]
    }
   ],
   "source": [
    "with open(\"DataFiles/Input.text\",\"a\") as faa:\n",
    "    k = input()\n",
    "    faa.write(k+\"\\n\")"
   ]
  },
  {
   "cell_type": "code",
   "execution_count": 8,
   "metadata": {},
   "outputs": [],
   "source": [
    "with open(\"DataFiles/Input.text\",\"r\") as frr:\n",
    "    p = frr.readlines()\n",
    "    for i in p:\n",
    "        mn = i.split(\"\\n\")[0]\n",
    "        j = mn.split()\n",
    "        with open(\"DataFiles/Output.text\",\"a\") as fww:\n",
    "            s = int(j[0])+int(j[1])\n",
    "#             print(s)\n",
    "            fww.write(str(s)+\"\\n\")"
   ]
  },
  {
   "cell_type": "code",
   "execution_count": 9,
   "metadata": {},
   "outputs": [
    {
     "name": "stdout",
     "output_type": "stream",
     "text": [
      "3 4 5 6\n",
      "3 4 5 6\n"
     ]
    }
   ],
   "source": [
    "e = input()\n",
    "print(e)"
   ]
  },
  {
   "cell_type": "code",
   "execution_count": 10,
   "metadata": {},
   "outputs": [
    {
     "name": "stdout",
     "output_type": "stream",
     "text": [
      "2\n",
      "0\n",
      "1\n"
     ]
    }
   ],
   "source": [
    "r = input()\n",
    "for i in range(int(r)):\n",
    "    print(i)"
   ]
  },
  {
   "cell_type": "code",
   "execution_count": null,
   "metadata": {},
   "outputs": [],
   "source": []
  }
 ],
 "metadata": {
  "kernelspec": {
   "display_name": "Python 3",
   "language": "python",
   "name": "python3"
  },
  "language_info": {
   "codemirror_mode": {
    "name": "ipython",
    "version": 3
   },
   "file_extension": ".py",
   "mimetype": "text/x-python",
   "name": "python",
   "nbconvert_exporter": "python",
   "pygments_lexer": "ipython3",
   "version": "3.7.4"
  }
 },
 "nbformat": 4,
 "nbformat_minor": 4
}
