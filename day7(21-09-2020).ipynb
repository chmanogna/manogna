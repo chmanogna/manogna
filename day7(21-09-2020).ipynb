{
 "cells": [
  {
   "cell_type": "markdown",
   "metadata": {},
   "source": [
    "# Fuctions\n",
    "- it is set of statements\n",
    "- used to perform a particular task (or) it perform specific tasks\n",
    "- reuse the code (or) we can use same function many times\n",
    "- we can pass arguments and we can return result\n",
    "- we have to diff types\n",
    "    - User-Defined Functions\n",
    "    - predefined or library or builtin functions\n",
    "#### User Defined functions:\n",
    "     - user can define his own functionality\n",
    "     - syntax:\n",
    "             def function_name(param1,param2,...):\n",
    "                # body of the loop\n",
    "                \n",
    "     - we can implement this Userdefined functions in 4 diff ways\n",
    "     - those are\n",
    "             -no arguments and no return values.\n",
    "             -no arguments and a return values.\n",
    "             -with arguments and no return values.\n",
    "             -with arguments and a return values."
   ]
  },
  {
   "cell_type": "code",
   "execution_count": 3,
   "metadata": {},
   "outputs": [],
   "source": [
    "# no arguments and no return value\n",
    "\n",
    "def hello():\n",
    "    print('Hi , i am from Hello()')"
   ]
  },
  {
   "cell_type": "code",
   "execution_count": 4,
   "metadata": {},
   "outputs": [
    {
     "name": "stdout",
     "output_type": "stream",
     "text": [
      "Hi , i am from Hello()\n"
     ]
    }
   ],
   "source": [
    "hello()"
   ]
  },
  {
   "cell_type": "code",
   "execution_count": 5,
   "metadata": {},
   "outputs": [],
   "source": [
    "# no arguments and a return value\n",
    "def Hellow1():\n",
    "    return 'i am from Hellow1'"
   ]
  },
  {
   "cell_type": "code",
   "execution_count": 6,
   "metadata": {},
   "outputs": [
    {
     "data": {
      "text/plain": [
       "'i am from Hellow1'"
      ]
     },
     "execution_count": 6,
     "metadata": {},
     "output_type": "execute_result"
    }
   ],
   "source": [
    "Hellow1()"
   ]
  },
  {
   "cell_type": "code",
   "execution_count": 7,
   "metadata": {},
   "outputs": [],
   "source": [
    "# with arguments and no return value\n",
    "def add(n1,n2):\n",
    "    print('sum of n1 and n2 is:',n1+n2)"
   ]
  },
  {
   "cell_type": "code",
   "execution_count": 8,
   "metadata": {},
   "outputs": [
    {
     "name": "stdout",
     "output_type": "stream",
     "text": [
      "sum of n1 and n2 is: 100\n"
     ]
    }
   ],
   "source": [
    "add(45,55)"
   ]
  },
  {
   "cell_type": "code",
   "execution_count": 12,
   "metadata": {},
   "outputs": [
    {
     "name": "stdout",
     "output_type": "stream",
     "text": [
      "sum of n1 and n2 is: 100\n"
     ]
    }
   ],
   "source": [
    "a,b=45,55\n",
    "add(a,b)"
   ]
  },
  {
   "cell_type": "code",
   "execution_count": 9,
   "metadata": {},
   "outputs": [],
   "source": [
    "#with arguments and a return value\n",
    "def mul(x1,x2):\n",
    "    return x1*x2"
   ]
  },
  {
   "cell_type": "code",
   "execution_count": 15,
   "metadata": {},
   "outputs": [
    {
     "name": "stdout",
     "output_type": "stream",
     "text": [
      "mul of n1 and n2 is: 20\n"
     ]
    }
   ],
   "source": [
    "# use this structure\n",
    "n1,n2=5,4\n",
    "rs = mul(n1,n2)\n",
    "print('mul of n1 and n2 is:',rs)"
   ]
  },
  {
   "cell_type": "code",
   "execution_count": 11,
   "metadata": {},
   "outputs": [
    {
     "data": {
      "text/plain": [
       "20"
      ]
     },
     "execution_count": 11,
     "metadata": {},
     "output_type": "execute_result"
    }
   ],
   "source": [
    "mul(5,4)"
   ]
  },
  {
   "cell_type": "code",
   "execution_count": 17,
   "metadata": {},
   "outputs": [
    {
     "data": {
      "text/plain": [
       "20"
      ]
     },
     "execution_count": 17,
     "metadata": {},
     "output_type": "execute_result"
    }
   ],
   "source": [
    "n1,n2=5,4\n",
    "mul(n1,n2)"
   ]
  },
  {
   "cell_type": "code",
   "execution_count": 19,
   "metadata": {},
   "outputs": [
    {
     "name": "stdout",
     "output_type": "stream",
     "text": [
      "mul of n1 and n2 is: 25\n"
     ]
    }
   ],
   "source": [
    "n1,n2=5,5\n",
    "print('mul of n1 and n2 is:',mul(n1,n2))"
   ]
  },
  {
   "cell_type": "code",
   "execution_count": 30,
   "metadata": {},
   "outputs": [],
   "source": [
    "# implement function on all arithmetic operators\n",
    "def add(n1,n2):\n",
    "    return n1+n2\n",
    "\n",
    "def sub(n1,n2):\n",
    "    return n1-n2\n",
    "\n",
    "def mul(x1,x2):\n",
    "    return x1*x2\n",
    "\n",
    "def div(n1,n2):\n",
    "    return n1/n2"
   ]
  },
  {
   "cell_type": "code",
   "execution_count": 31,
   "metadata": {},
   "outputs": [
    {
     "name": "stdout",
     "output_type": "stream",
     "text": [
      "5\n",
      "2\n",
      "7\n",
      "2.5\n"
     ]
    }
   ],
   "source": [
    "v1 = int(input())\n",
    "v2 = int(input())\n",
    "rs1 = add(v1,v2)\n",
    "print(rs1)\n",
    "rs1 = div(v1,v2)\n",
    "print(rs1)"
   ]
  },
  {
   "cell_type": "code",
   "execution_count": 32,
   "metadata": {},
   "outputs": [],
   "source": [
    "def add(x1,x2):\n",
    "    return x1+x2\n",
    "def sub(x1,x2):\n",
    "    return x1-x2\n",
    "def mul(x1,x2):\n",
    "    return x1*x2\n",
    "def div(x1,x2):\n",
    "    return x1/x2\n",
    "def mod(x1,x2):\n",
    "    return x1%x2\n"
   ]
  },
  {
   "cell_type": "code",
   "execution_count": 33,
   "metadata": {},
   "outputs": [
    {
     "name": "stdout",
     "output_type": "stream",
     "text": [
      "enter n1 value: 5\n",
      "enter n1 value: 5\n",
      "add of n1 and n2 is: 10\n",
      "sub of n1 and n2 is: 0\n",
      "mul of n1 and n2 is: 25\n",
      "div of n1 and n2 is: 1.0\n",
      "mod of n1 and n2 is: 0\n"
     ]
    }
   ],
   "source": [
    "n1=int(input(\"enter n1 value: \"))\n",
    "n2=int(input(\"enter n1 value: \"))\n",
    "rs1=add(n1,n2)\n",
    "print('add of n1 and n2 is:',rs1)\n",
    "rs2=sub(n1,n2)\n",
    "print('sub of n1 and n2 is:',rs2)\n",
    "rs3=mul(n1,n2)\n",
    "print('mul of n1 and n2 is:',rs3)\n",
    "rs4=div(n1,n2)\n",
    "print('div of n1 and n2 is:',rs4)\n",
    "rs5=mod(n1,n2)\n",
    "print('mod of n1 and n2 is:',rs5)"
   ]
  },
  {
   "cell_type": "markdown",
   "metadata": {},
   "source": [
    "### predefined fuctions\n",
    "- already implemented in programming\n",
    "- pow,range\n",
    "- print,input,type,chr,ord,help,abs,float,int,str,max,min,sum,etc..."
   ]
  },
  {
   "cell_type": "code",
   "execution_count": null,
   "metadata": {},
   "outputs": [],
   "source": []
  }
 ],
 "metadata": {
  "kernelspec": {
   "display_name": "Python 3",
   "language": "python",
   "name": "python3"
  },
  "language_info": {
   "codemirror_mode": {
    "name": "ipython",
    "version": 3
   },
   "file_extension": ".py",
   "mimetype": "text/x-python",
   "name": "python",
   "nbconvert_exporter": "python",
   "pygments_lexer": "ipython3",
   "version": "3.7.4"
  }
 },
 "nbformat": 4,
 "nbformat_minor": 4
}
