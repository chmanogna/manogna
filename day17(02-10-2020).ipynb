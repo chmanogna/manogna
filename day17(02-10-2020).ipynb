{
 "cells": [
  {
   "cell_type": "code",
   "execution_count": 1,
   "metadata": {},
   "outputs": [
    {
     "name": "stdout",
     "output_type": "stream",
     "text": [
      "enter a number123\n",
      "sum of digits is  6\n"
     ]
    }
   ],
   "source": [
    "# find th sum of digit ex: 123=> 1+2+3=6\n",
    "n=int(input(\"enter a number\"))\n",
    "s=0\n",
    "while(n>0):\n",
    "    r=n%10\n",
    "    s=s+r\n",
    "    n=n//10\n",
    "print(\"sum of digits is \",s)"
   ]
  },
  {
   "cell_type": "code",
   "execution_count": 2,
   "metadata": {},
   "outputs": [],
   "source": [
    "#s=\"123\" => count the number of digits => 3 ; \"4567\"=>4"
   ]
  },
  {
   "cell_type": "code",
   "execution_count": 3,
   "metadata": {},
   "outputs": [
    {
     "name": "stdout",
     "output_type": "stream",
     "text": [
      "enter a number24\n",
      "number of digits is  1\n",
      "number of digits is  2\n"
     ]
    }
   ],
   "source": [
    "s=input(\"enter a number\")\n",
    "n=int(s)\n",
    "c=0\n",
    "while(n>0):\n",
    "    r=n%10\n",
    "    c=c+1\n",
    "    n=n//10\n",
    "    print(\"number of digits is \",c)"
   ]
  },
  {
   "cell_type": "code",
   "execution_count": 10,
   "metadata": {},
   "outputs": [
    {
     "name": "stdout",
     "output_type": "stream",
     "text": [
      "enter a number123\n",
      "given number is not palendrom\n"
     ]
    }
   ],
   "source": [
    "# find the given number is pallindrome or not\n",
    "# 212=>213 (palindrome) 123=>321(not palindrme)\n",
    "n=int(input(\"enter a number\"))\n",
    "temp=n\n",
    "s=0\n",
    "while(n>0):\n",
    "    r=n%10\n",
    "    s=s*10+r\n",
    "    n=n//10\n",
    "if(temp==s):\n",
    "    print(\"given number is palendrom\")\n",
    "else:\n",
    "    print(\"given number is not palendrom\")"
   ]
  },
  {
   "cell_type": "code",
   "execution_count": null,
   "metadata": {},
   "outputs": [
    {
     "name": "stdout",
     "output_type": "stream",
     "text": [
      "Enter a number24\n"
     ]
    }
   ],
   "source": [
    "# sum of the given digits upto get single digit\n",
    "# 2301=>2+3+0+1=>6\n",
    "# 1996=> 1+9+9+6=>25=>2+5=>7\n",
    "n=int(input(\"Enter a number\"))\n",
    "sum = 0\n",
    "while(n>0 or sum>9): \n",
    "     if(n==0): \n",
    "        n=sum\n",
    "        sum=0\n",
    "        r=n%10\n",
    "        sum=sum+r\n",
    "        n=n//10\n",
    "        \n",
    "print(\"singl digit of a given number is \",s)"
   ]
  },
  {
   "cell_type": "code",
   "execution_count": 5,
   "metadata": {},
   "outputs": [
    {
     "name": "stdout",
     "output_type": "stream",
     "text": [
      "enter a number54\n",
      "given number is not amstrong\n"
     ]
    }
   ],
   "source": [
    "# find the given number is amstrong or not\n",
    "#amstrong => sum of cubes of individual number is equalto the given number\n",
    "\n",
    "n=int(input(\"enter a number\"))\n",
    "temp=n\n",
    "s=0\n",
    "while(n!=0):\n",
    "    r=n%10\n",
    "    s=s+(r*r*r)\n",
    "    n=n//10\n",
    "if(temp==s):\n",
    "    print(\"given number is amstrong\")\n",
    "else:\n",
    "    print(\"given number is not amstrong\")"
   ]
  },
  {
   "cell_type": "code",
   "execution_count": null,
   "metadata": {},
   "outputs": [],
   "source": []
  }
 ],
 "metadata": {
  "kernelspec": {
   "display_name": "Python 3",
   "language": "python",
   "name": "python3"
  }
 },
 "nbformat": 4,
 "nbformat_minor": 4
}
